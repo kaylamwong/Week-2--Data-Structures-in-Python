{
 "cells": [
  {
   "cell_type": "markdown",
   "id": "6dfb8170",
   "metadata": {},
   "source": [
    "# Iterators "
   ]
  },
  {
   "cell_type": "code",
   "execution_count": 3,
   "id": "eb30d9ec",
   "metadata": {},
   "outputs": [
    {
     "name": "stdout",
     "output_type": "stream",
     "text": [
      "0 1 2 3 4 5 6 7 8 9 "
     ]
    }
   ],
   "source": [
    "#example of range iterator\n",
    "for i in range(10): \n",
    "    print(i, end=' ')\n"
   ]
  },
  {
   "cell_type": "markdown",
   "id": "f9460e35",
   "metadata": {},
   "source": [
    "## Iterating over Lists "
   ]
  },
  {
   "cell_type": "code",
   "execution_count": 20,
   "id": "b400ffc7",
   "metadata": {},
   "outputs": [
    {
     "name": "stdout",
     "output_type": "stream",
     "text": [
      "3 5 7 9 11 "
     ]
    }
   ],
   "source": [
    "\n",
    "\n",
    "for value in [2, 4, 6, 8, 10]: \n",
    "    #do some operation \n",
    "    print(value + 1, end=' ')"
   ]
  },
  {
   "cell_type": "code",
   "execution_count": 21,
   "id": "77065bab",
   "metadata": {},
   "outputs": [
    {
     "data": {
      "text/plain": [
       "<list_iterator at 0x7130b47aee60>"
      ]
     },
     "execution_count": 21,
     "metadata": {},
     "output_type": "execute_result"
    }
   ],
   "source": [
    "iter([2, 4, 6, 8, 10])"
   ]
  },
  {
   "cell_type": "code",
   "execution_count": 22,
   "id": "5810e0f8",
   "metadata": {},
   "outputs": [],
   "source": [
    "#allows Python to treat things as lists that are not actually lists \n",
    "I = iter([2, 4, 6, 8, 10])"
   ]
  },
  {
   "cell_type": "code",
   "execution_count": 23,
   "id": "8d8185b9",
   "metadata": {},
   "outputs": [
    {
     "name": "stdout",
     "output_type": "stream",
     "text": [
      "2\n"
     ]
    }
   ],
   "source": [
    "print(next(I))"
   ]
  },
  {
   "cell_type": "code",
   "execution_count": 24,
   "id": "20eb6492",
   "metadata": {},
   "outputs": [
    {
     "name": "stdout",
     "output_type": "stream",
     "text": [
      "4\n"
     ]
    }
   ],
   "source": [
    "print(next(I))"
   ]
  },
  {
   "cell_type": "code",
   "execution_count": 25,
   "id": "8f437872",
   "metadata": {},
   "outputs": [
    {
     "name": "stdout",
     "output_type": "stream",
     "text": [
      "6\n"
     ]
    }
   ],
   "source": [
    "print(next(I))"
   ]
  },
  {
   "cell_type": "markdown",
   "id": "acd100dc",
   "metadata": {},
   "source": [
    "## range(): A List is Not Always a List"
   ]
  },
  {
   "cell_type": "code",
   "execution_count": 26,
   "id": "4dd1214f",
   "metadata": {},
   "outputs": [
    {
     "data": {
      "text/plain": [
       "range(0, 10)"
      ]
     },
     "execution_count": 26,
     "metadata": {},
     "output_type": "execute_result"
    }
   ],
   "source": [
    "range(10)"
   ]
  },
  {
   "cell_type": "code",
   "execution_count": 27,
   "id": "e3e06267",
   "metadata": {},
   "outputs": [
    {
     "data": {
      "text/plain": [
       "<range_iterator at 0x7130b47ac390>"
      ]
     },
     "execution_count": 27,
     "metadata": {},
     "output_type": "execute_result"
    }
   ],
   "source": [
    "iter(range(10))"
   ]
  },
  {
   "cell_type": "code",
   "execution_count": 28,
   "id": "1b07ad5a",
   "metadata": {},
   "outputs": [
    {
     "name": "stdout",
     "output_type": "stream",
     "text": [
      "0 1 2 3 4 5 6 7 8 9 "
     ]
    }
   ],
   "source": [
    "for i in range(10): \n",
    "    print(i, end= ' ')"
   ]
  },
  {
   "cell_type": "code",
   "execution_count": 29,
   "id": "20e01bb5",
   "metadata": {},
   "outputs": [
    {
     "name": "stdout",
     "output_type": "stream",
     "text": [
      "0, 1, 2, 3, 4, 5, 6, 7, 8, 9, "
     ]
    }
   ],
   "source": [
    "N = 10 ** 12 \n",
    "for i in range(N): \n",
    "    if i >= 10: break \n",
    "    print(i, end=', ')"
   ]
  },
  {
   "cell_type": "markdown",
   "id": "76629715",
   "metadata": {},
   "source": [
    "## Useful Iterators"
   ]
  },
  {
   "cell_type": "markdown",
   "id": "cdbb8f7f",
   "metadata": {},
   "source": [
    "### Enumerate "
   ]
  },
  {
   "cell_type": "code",
   "execution_count": 31,
   "id": "c50c6432",
   "metadata": {},
   "outputs": [
    {
     "name": "stdout",
     "output_type": "stream",
     "text": [
      "0 2\n",
      "1 4\n",
      "2 6\n",
      "3 8\n",
      "4 10\n"
     ]
    }
   ],
   "source": [
    "L= [2, 4, 6, 8, 10]\n",
    "for i in range(len(L)): \n",
    "    print(i, L[i])"
   ]
  },
  {
   "cell_type": "code",
   "execution_count": 32,
   "id": "ad50f439",
   "metadata": {},
   "outputs": [
    {
     "name": "stdout",
     "output_type": "stream",
     "text": [
      "0 2\n",
      "1 4\n",
      "2 6\n",
      "3 8\n",
      "4 10\n"
     ]
    }
   ],
   "source": [
    "#enumerate iterator provides a cleaner syntax \n",
    "\n",
    "for i, val in enumerate(L): \n",
    "    print(i,val)\n",
    "    "
   ]
  },
  {
   "cell_type": "markdown",
   "id": "11611215",
   "metadata": {},
   "source": [
    "### Zip"
   ]
  },
  {
   "cell_type": "markdown",
   "id": "d3bc57fa",
   "metadata": {},
   "source": [
    "- When you have multiple lists that you want to iterate over simultaneously \n",
    "- Zips together iterables "
   ]
  },
  {
   "cell_type": "code",
   "execution_count": 34,
   "id": "290b84c0",
   "metadata": {},
   "outputs": [
    {
     "name": "stdout",
     "output_type": "stream",
     "text": [
      "2 3\n",
      "4 6\n",
      "6 9\n",
      "8 12\n",
      "10 15\n"
     ]
    }
   ],
   "source": [
    "L= [2, 4, 6, 8, 10]\n",
    "R= [3, 6, 9, 12, 15]\n",
    "for lval, rval in zip(L, R): \n",
    "    print(lval, rval)\n",
    "\n",
    "# Any number of iterables can be zipped together, and if they are different lengths, the shortest will determine the length of the zip."
   ]
  },
  {
   "cell_type": "markdown",
   "id": "3a1694e3",
   "metadata": {},
   "source": [
    "### Map and Filter "
   ]
  },
  {
   "cell_type": "markdown",
   "id": "f745b4cc",
   "metadata": {},
   "source": [
    "- Map iterator takes a function and applies it to the values in an iterator"
   ]
  },
  {
   "cell_type": "code",
   "execution_count": 35,
   "id": "8e364400",
   "metadata": {},
   "outputs": [
    {
     "name": "stdout",
     "output_type": "stream",
     "text": [
      "0 1 4 9 16 25 36 49 64 81 "
     ]
    }
   ],
   "source": [
    "#find the first 10 square numbers \n",
    "\n",
    "square = lambda x : x ** 2 \n",
    "\n",
    "for val in map(square, range(10)): \n",
    "    print(val, end=' ')"
   ]
  },
  {
   "cell_type": "markdown",
   "id": "621c67b8",
   "metadata": {},
   "source": [
    "- Filter iterator looks similar, except it only passes-through values for which the filter function evaluates to True:"
   ]
  },
  {
   "cell_type": "code",
   "execution_count": 36,
   "id": "57d77c80",
   "metadata": {},
   "outputs": [
    {
     "name": "stdout",
     "output_type": "stream",
     "text": [
      "0 2 4 6 8 "
     ]
    }
   ],
   "source": [
    "# find values up to 10 for which x % 2 is zero\n",
    "is_even = lambda x: x % 2 == 0\n",
    "for val in filter(is_even, range(10)):\n",
    "    print(val, end=' ')"
   ]
  },
  {
   "cell_type": "markdown",
   "id": "e5841c42",
   "metadata": {},
   "source": [
    "### Iterators as function arguments "
   ]
  },
  {
   "cell_type": "markdown",
   "id": "9c662766",
   "metadata": {},
   "source": [
    "- *Args and ** Kwargs are special Python syntax used in function definitions to allow a function to accept a variable (arbitrary) number of arguments. They are often seen together and represent a core feature for writing flexible, reusable functions.\n",
    "    "
   ]
  },
  {
   "cell_type": "markdown",
   "id": "b5a99687",
   "metadata": {},
   "source": [
    "- *args (Arbituary Positional Arguments): the name is a convention, but the asterisk (∗) is essential) allows a function to accept any number of positional arguments."
   ]
  },
  {
   "cell_type": "markdown",
   "id": "0ee65c72",
   "metadata": {},
   "source": [
    "- *kwargs (Arbituary Keywrod Arguments): (the double asterisk (∗∗) is essential) allows a function to accept any number of keyword arguments (arguments passed as key=value)"
   ]
  },
  {
   "cell_type": "markdown",
   "id": "1a2cd292",
   "metadata": {},
   "source": [
    "- *args and **kwargs can be used to pass sequences and dictionaries to functions. It turns out that the *args syntax works not just with sequences, but with any iterator:"
   ]
  },
  {
   "cell_type": "code",
   "execution_count": 37,
   "id": "ba88c085",
   "metadata": {},
   "outputs": [
    {
     "name": "stdout",
     "output_type": "stream",
     "text": [
      "0 1 2 3 4 5 6 7 8 9\n"
     ]
    }
   ],
   "source": [
    "print(*range(10))"
   ]
  },
  {
   "cell_type": "code",
   "execution_count": 38,
   "id": "6e825b99",
   "metadata": {},
   "outputs": [
    {
     "name": "stdout",
     "output_type": "stream",
     "text": [
      "0 1 4 9 16 25 36 49 64 81\n"
     ]
    }
   ],
   "source": [
    "print(*map(lambda x: x ** 2, range(10)))\n"
   ]
  },
  {
   "cell_type": "code",
   "execution_count": 39,
   "id": "78988809",
   "metadata": {},
   "outputs": [],
   "source": [
    "L1 = (1, 2, 3, 4)\n",
    "L2 = ('a', 'b', 'c', 'd')"
   ]
  },
  {
   "cell_type": "code",
   "execution_count": 40,
   "id": "a182be78",
   "metadata": {},
   "outputs": [
    {
     "name": "stdout",
     "output_type": "stream",
     "text": [
      "(1, 'a') (2, 'b') (3, 'c') (4, 'd')\n"
     ]
    }
   ],
   "source": [
    "z = zip(L1, L2)\n",
    "print(*z)"
   ]
  },
  {
   "cell_type": "code",
   "execution_count": 41,
   "id": "6939049c",
   "metadata": {},
   "outputs": [
    {
     "name": "stdout",
     "output_type": "stream",
     "text": [
      "(1, 2, 3, 4) ('a', 'b', 'c', 'd')\n"
     ]
    }
   ],
   "source": [
    "z = zip(L1, L2)\n",
    "new_L1, new_L2 = zip(*z)\n",
    "print(new_L1, new_L2)"
   ]
  },
  {
   "cell_type": "markdown",
   "id": "bbaf57ef",
   "metadata": {},
   "source": [
    "### Specialized Iterators "
   ]
  },
  {
   "cell_type": "markdown",
   "id": "cd56114f",
   "metadata": {},
   "source": [
    "- itertools.permutations function, which iterates over all permutations of a sequence"
   ]
  },
  {
   "cell_type": "code",
   "execution_count": 42,
   "id": "936733f8",
   "metadata": {},
   "outputs": [
    {
     "name": "stdout",
     "output_type": "stream",
     "text": [
      "(0, 1, 2) (0, 2, 1) (1, 0, 2) (1, 2, 0) (2, 0, 1) (2, 1, 0)\n"
     ]
    }
   ],
   "source": [
    "from itertools import permutations\n",
    "p = permutations(range(3))\n",
    "print(*p)"
   ]
  },
  {
   "cell_type": "markdown",
   "id": "1bf9a233",
   "metadata": {},
   "source": [
    "- itertools.combinations function iterates over all unique combinations of N values within a list"
   ]
  },
  {
   "cell_type": "code",
   "execution_count": 43,
   "id": "a5f03ff9",
   "metadata": {},
   "outputs": [
    {
     "name": "stdout",
     "output_type": "stream",
     "text": [
      "(0, 1) (0, 2) (0, 3) (1, 2) (1, 3) (2, 3)\n"
     ]
    }
   ],
   "source": [
    "from itertools import combinations\n",
    "c = combinations(range(4), 2)\n",
    "print(*c)"
   ]
  },
  {
   "cell_type": "markdown",
   "id": "5b88627b",
   "metadata": {},
   "source": [
    "- product iterator, which iterates over all sets of pairs between two or more iterables"
   ]
  },
  {
   "cell_type": "code",
   "execution_count": 44,
   "id": "9c34ec8d",
   "metadata": {},
   "outputs": [
    {
     "name": "stdout",
     "output_type": "stream",
     "text": [
      "('a', 0) ('a', 1) ('a', 2) ('b', 0) ('b', 1) ('b', 2)\n"
     ]
    }
   ],
   "source": [
    "from itertools import product\n",
    "p = product('ab', range(3))\n",
    "print(*p)"
   ]
  }
 ],
 "metadata": {
  "kernelspec": {
   "display_name": "Python 3",
   "language": "python",
   "name": "python3"
  },
  "language_info": {
   "codemirror_mode": {
    "name": "ipython",
    "version": 3
   },
   "file_extension": ".py",
   "mimetype": "text/x-python",
   "name": "python",
   "nbconvert_exporter": "python",
   "pygments_lexer": "ipython3",
   "version": "3.12.1"
  }
 },
 "nbformat": 4,
 "nbformat_minor": 5
}
